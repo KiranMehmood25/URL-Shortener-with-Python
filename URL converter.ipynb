{
 "cells": [
  {
   "cell_type": "code",
   "execution_count": 8,
   "id": "99f07b8f",
   "metadata": {},
   "outputs": [],
   "source": [
    "import tkinter as tk\n",
    "from tkinter import messagebox\n",
    "import requests\n",
    "\n",
    "def shorten_url(url):\n",
    "    try:\n",
    "        response = requests.get(f\"http://tinyurl.com/api-create.php?url={url}\")\n",
    "        response.raise_for_status()  # Check for HTTP errors\n",
    "        return response.text\n",
    "    except requests.exceptions.RequestException as e:\n",
    "        raise Exception(f\"Error shortening URL: {str(e)}\")\n",
    "\n",
    "def show_success_message(short_url):\n",
    "    messagebox.showinfo(\"Success\", f\"URL Shortened successfully!\\nShort URL: {short_url}\", icon=\"info\")\n",
    "\n",
    "def shorten_button_click():\n",
    "    long_url = long_url_entry.get()\n",
    "    try:\n",
    "        short_url = shorten_url(long_url)\n",
    "        short_url_entry.delete(0, tk.END)\n",
    "        short_url_entry.insert(0, short_url)\n",
    "        show_success_message(short_url)\n",
    "    except Exception as e:\n",
    "        messagebox.showerror(\"Error\", str(e), icon=\"error\")\n",
    "\n",
    "# Create the main window\n",
    "window = tk.Tk()\n",
    "window.title(\"URL Converter Long to Short\")\n",
    "window.geometry(\"400x250\")\n",
    "\n",
    "# Label styles\n",
    "label_style = (\"Helvetica\", 12, \"bold\")\n",
    "text_color = \"#333\"\n",
    "\n",
    "# Long URL entry\n",
    "long_url_label = tk.Label(window, text=\"Enter Long URL\", font=label_style, fg=text_color)\n",
    "long_url_label.pack(pady=5)\n",
    "long_url_entry = tk.Entry(window, width=40)\n",
    "long_url_entry.pack(pady=5)\n",
    "\n",
    "# Shorten button\n",
    "shorten_button = tk.Button(window, text=\"Shorten URL\", command=shorten_button_click)\n",
    "shorten_button.pack(pady=10)\n",
    "\n",
    "# Output field with background color\n",
    "output_bg_color = \"#f0f0f0\"\n",
    "short_url_label = tk.Label(window, text=\"Short URL\", font=label_style, fg=text_color)\n",
    "short_url_label.pack(pady=5)\n",
    "short_url_entry = tk.Entry(window, width=40, bg=output_bg_color)\n",
    "short_url_entry.pack(pady=5)\n",
    "\n",
    "# Start the GUI event loop\n",
    "window.mainloop()\n"
   ]
  },
  {
   "cell_type": "code",
   "execution_count": null,
   "id": "5800bd6f",
   "metadata": {},
   "outputs": [],
   "source": []
  }
 ],
 "metadata": {
  "kernelspec": {
   "display_name": "Python 3 (ipykernel)",
   "language": "python",
   "name": "python3"
  },
  "language_info": {
   "codemirror_mode": {
    "name": "ipython",
    "version": 3
   },
   "file_extension": ".py",
   "mimetype": "text/x-python",
   "name": "python",
   "nbconvert_exporter": "python",
   "pygments_lexer": "ipython3",
   "version": "3.10.9"
  }
 },
 "nbformat": 4,
 "nbformat_minor": 5
}
